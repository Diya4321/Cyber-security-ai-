{
  "cells": [
    {
      "cell_type": "markdown",
      "metadata": {
        "id": "view-in-github",
        "colab_type": "text"
      },
      "source": [
        "<a href=\"https://colab.research.google.com/github/Diya4321/Cyber-security-ai-/blob/main/Untitled0.ipynb\" target=\"_parent\"><img src=\"https://colab.research.google.com/assets/colab-badge.svg\" alt=\"Open In Colab\"/></a>"
      ]
    },
    {
      "cell_type": "code",
      "source": [
        "import re\n",
        "\n",
        "def check_password_strength(password):\n",
        "    score = 0\n",
        "    feedback = []\n",
        "\n",
        "    # Length check\n",
        "    if len(password) >= 8:\n",
        "        score += 1\n",
        "    else:\n",
        "        feedback.append(\"❌ Use at least 8 characters.\")\n",
        "\n",
        "    # Lowercase check\n",
        "    if re.search(r\"[a-z]\", password):\n",
        "        score += 1\n",
        "    else:\n",
        "        feedback.append(\"❌ Add lowercase letters (a-z).\")\n",
        "\n",
        "    # Uppercase check\n",
        "    if re.search(r\"[A-Z]\", password):\n",
        "        score += 1\n",
        "    else:\n",
        "        feedback.append(\"❌ Add uppercase letters (A-Z).\")\n",
        "\n",
        "    # Digit check\n",
        "    if re.search(r\"\\d\", password):\n",
        "        score += 1\n",
        "    else:\n",
        "        feedback.append(\"❌ Add digits (0-9).\")\n",
        "\n",
        "    # Special character check\n",
        "    if re.search(r\"[!@#$%^&*()_+\\-=\\[\\]{};':\\\"\\\\|,.<>\\/?]\", password):\n",
        "        score += 1\n",
        "    else:\n",
        "        feedback.append(\"❌ Add special characters (e.g., @, #, $, etc.).\")\n",
        "\n",
        "    # Strength evaluation\n",
        "    if score == 5:\n",
        "        strength = \"Very Strong 💪\"\n",
        "    elif score == 4:\n",
        "        strength = \"Strong ✅\"\n",
        "    elif score == 3:\n",
        "        strength = \"Moderate ⚠️\"\n",
        "    elif score == 2:\n",
        "        strength = \"Weak ❗\"\n",
        "    else:\n",
        "        strength = \"Very Weak 🚫\"\n",
        "\n",
        "    return strength, feedback\n",
        "\n",
        "def main():\n",
        "    print(\"=== Password Strength Checker ===\")\n",
        "    password = input(\"Enter a password to evaluate: \")\n",
        "\n",
        "    strength, suggestions = check_password_strength(password)\n",
        "\n",
        "    print(f\"\\nPassword Strength: {strength}\")\n",
        "    if suggestions:\n",
        "        print(\"Suggestions to improve your password:\")\n",
        "        for s in suggestions:\n",
        "            print(f\"  - {s}\")\n",
        "    else:\n",
        "        print(\"✅ Your password meets all recommended criteria!\")\n",
        "\n",
        "if __name__ == \"__main__\":\n",
        "    main()\n"
      ],
      "metadata": {
        "colab": {
          "base_uri": "https://localhost:8080/"
        },
        "id": "LpDGai7WSJg2",
        "outputId": "c3a4169b-c6d6-4b8d-d275-43cc03982b4a"
      },
      "execution_count": null,
      "outputs": [
        {
          "output_type": "stream",
          "name": "stdout",
          "text": [
            "=== Password Strength Checker ===\n"
          ]
        }
      ]
    }
  ],
  "metadata": {
    "colab": {
      "provenance": [],
      "authorship_tag": "ABX9TyNPyHR92cQ8e4TkCcs04ZjJ",
      "include_colab_link": true
    },
    "kernelspec": {
      "display_name": "Python 3",
      "name": "python3"
    },
    "language_info": {
      "name": "python"
    }
  },
  "nbformat": 4,
  "nbformat_minor": 0
}