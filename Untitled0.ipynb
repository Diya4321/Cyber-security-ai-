{
  "cells": [
    {
      "cell_type": "markdown",
      "metadata": {
        "id": "view-in-github",
        "colab_type": "text"
      },
      "source": [
        "<a href=\"https://colab.research.google.com/github/Diya4321/Cyber-security-ai-/blob/main/Untitled0.ipynb\" target=\"_parent\"><img src=\"https://colab.research.google.com/assets/colab-badge.svg\" alt=\"Open In Colab\"/></a>"
      ]
    },
    {
      "cell_type": "code",
      "source": [
        "from PIL import Image\n",
        "import os\n",
        "\n",
        "def encrypt_decrypt_image(input_path, output_path, key):\n",
        "    try:\n",
        "        # Open the image\n",
        "        img = Image.open(input_path)\n",
        "        img = img.convert('RGB')  # Ensure it's in RGB mode\n",
        "        pixels = img.load()\n",
        "\n",
        "        width, height = img.size\n",
        "\n",
        "        for y in range(height):\n",
        "            for x in range(width):\n",
        "                r, g, b = pixels[x, y]\n",
        "                # Apply XOR operation with the key\n",
        "                pixels[x, y] = (r ^ key, g ^ key, b ^ key)\n",
        "\n",
        "        img.save(output_path)\n",
        "        print(f\"Success! Image saved as: {output_path}\")\n",
        "    except Exception as e:\n",
        "        print(f\"Error: {e}\")\n",
        "\n",
        "def main():\n",
        "    print(\"=== Image Encryption / Decryption Tool ===\")\n",
        "    input_path = input(\"Enter path to the image: \")\n",
        "\n",
        "    if not os.path.isfile(input_path):\n",
        "        print(\"Error: File not found.\")\n",
        "        return\n",
        "\n",
        "    try:\n",
        "        key = int(input(\"Enter encryption/decryption key (0-255): \"))\n",
        "        if not (0 <= key <= 255):\n",
        "            raise ValueError\n",
        "    except ValueError:\n",
        "        print(\"Error: Key must be an integer between 0 and 255.\")\n",
        "        return\n",
        "\n",
        "    choice = input(\"Type 'e' to encrypt or 'd' to decrypt: \").lower()\n",
        "\n",
        "    if choice == 'e':\n",
        "        output_path = input(\"Enter output file name for encrypted image (e.g., encrypted.png): \")\n",
        "        encrypt_decrypt_image(input_path, output_path, key)\n",
        "    elif choice == 'd':\n",
        "        output_path = input(\"Enter output file name for decrypted image (e.g., decrypted.png): \")\n",
        "        encrypt_decrypt_image(input_path, output_path, key)\n",
        "    else:\n",
        "        print(\"Invalid choice. Please enter 'e' or 'd'.\")\n",
        "\n",
        "if __name__ == '__main__':\n",
        "    main()\n"
      ],
      "metadata": {
        "colab": {
          "base_uri": "https://localhost:8080/"
        },
        "id": "ljfFPoyaQg6T",
        "outputId": "1d82379c-3b6c-4b92-c9ef-66eb0839c48b"
      },
      "execution_count": null,
      "outputs": [
        {
          "output_type": "stream",
          "name": "stdout",
          "text": [
            "=== Image Encryption / Decryption Tool ===\n"
          ]
        }
      ]
    }
  ],
  "metadata": {
    "colab": {
      "provenance": [],
      "authorship_tag": "ABX9TyPP9zAgafvrFsxUIucoJHj4",
      "include_colab_link": true
    },
    "kernelspec": {
      "display_name": "Python 3",
      "name": "python3"
    },
    "language_info": {
      "name": "python"
    }
  },
  "nbformat": 4,
  "nbformat_minor": 0
}